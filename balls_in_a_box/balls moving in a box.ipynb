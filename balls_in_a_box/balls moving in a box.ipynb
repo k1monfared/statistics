{
 "cells": [
  {
   "cell_type": "markdown",
   "metadata": {},
   "source": [
    "Draw some balls in a box and have them move around in a random direction and bounce off the walls of the box."
   ]
  },
  {
   "cell_type": "code",
   "execution_count": 4,
   "metadata": {
    "scrolled": false
   },
   "outputs": [],
   "source": [
    "import matplotlib.pyplot as plt\n",
    "import numpy as np\n",
    "from pylab import * # to use subplot()\n",
    "import imageio # to make a gif\n",
    "from matplotlib.patches import Circle # to draw circles\n",
    "from matplotlib.collections import PatchCollection # used in circles"
   ]
  },
  {
   "cell_type": "markdown",
   "metadata": {},
   "source": [
    "The scatter from pyplot doesn't let you control the width of the points in a sensible way. So, we'll use the following circles function. We need this to compute when the boundary of the ball hits the walls."
   ]
  },
  {
   "cell_type": "code",
   "execution_count": 13,
   "metadata": {},
   "outputs": [],
   "source": [
    "def circles(x, y, s, c='b', vmin=None, vmax=None, **kwargs):\n",
    "    \"\"\"\n",
    "    source: https://gist.github.com/syrte/592a062c562cd2a98a83\n",
    "    Make a scatter plot of circles. \n",
    "    Similar to plt.scatter, but the size of circles are in data scale.\n",
    "    Parameters\n",
    "    ----------\n",
    "    x, y : scalar or array_like, shape (n, )\n",
    "        Input data\n",
    "    s : scalar or array_like, shape (n, ) \n",
    "        Radius of circles.\n",
    "    c : color or sequence of color, optional, default : 'b'\n",
    "        `c` can be a single color format string, or a sequence of color\n",
    "        specifications of length `N`, or a sequence of `N` numbers to be\n",
    "        mapped to colors using the `cmap` and `norm` specified via kwargs.\n",
    "        Note that `c` should not be a single numeric RGB or RGBA sequence \n",
    "        because that is indistinguishable from an array of values\n",
    "        to be colormapped. (If you insist, use `color` instead.)  \n",
    "        `c` can be a 2-D array in which the rows are RGB or RGBA, however. \n",
    "    vmin, vmax : scalar, optional, default: None\n",
    "        `vmin` and `vmax` are used in conjunction with `norm` to normalize\n",
    "        luminance data.  If either are `None`, the min and max of the\n",
    "        color array is used.\n",
    "    kwargs : `~matplotlib.collections.Collection` properties\n",
    "        Eg. alpha, edgecolor(ec), facecolor(fc), linewidth(lw), linestyle(ls), \n",
    "        norm, cmap, transform, etc.\n",
    "    Returns\n",
    "    -------\n",
    "    paths : `~matplotlib.collections.PathCollection`\n",
    "    Examples\n",
    "    --------\n",
    "    a = np.arange(11)\n",
    "    circles(a, a, s=a*0.2, c=a, alpha=0.5, ec='none')\n",
    "    plt.colorbar()\n",
    "    License\n",
    "    --------\n",
    "    This code is under [The BSD 3-Clause License]\n",
    "    (http://opensource.org/licenses/BSD-3-Clause)\n",
    "    \"\"\"\n",
    "\n",
    "    if np.isscalar(c):\n",
    "        kwargs.setdefault('color', c)\n",
    "        c = None\n",
    "\n",
    "    if 'fc' in kwargs:\n",
    "        kwargs.setdefault('facecolor', kwargs.pop('fc'))\n",
    "    if 'ec' in kwargs:\n",
    "        kwargs.setdefault('edgecolor', kwargs.pop('ec'))\n",
    "    if 'ls' in kwargs:\n",
    "        kwargs.setdefault('linestyle', kwargs.pop('ls'))\n",
    "    if 'lw' in kwargs:\n",
    "        kwargs.setdefault('linewidth', kwargs.pop('lw'))\n",
    "    # You can set `facecolor` with an array for each patch,\n",
    "    # while you can only set `facecolors` with a value for all.\n",
    "\n",
    "    zipped = np.broadcast(x, y, s)\n",
    "    patches = [Circle((x_, y_), s_)\n",
    "               for x_, y_, s_ in zipped]\n",
    "    collection = PatchCollection(patches, **kwargs)\n",
    "    if c is not None:\n",
    "        c = np.broadcast_to(c, zipped.shape).ravel()\n",
    "        collection.set_array(c)\n",
    "        collection.set_clim(vmin, vmax)\n",
    "\n",
    "    ax = plt.gca()\n",
    "    ax.add_collection(collection)\n",
    "    ax.autoscale_view()\n",
    "    plt.draw_if_interactive()\n",
    "    if c is not None:\n",
    "        plt.sci(collection)\n",
    "    return collection"
   ]
  },
  {
   "cell_type": "markdown",
   "metadata": {},
   "source": [
    "Here is when the computations and drawing happens. \n",
    "\n",
    "To do:\n",
    "- take into account the direction of the balls when measuring when it hits the wall so that they don't bounce off too early or too late."
   ]
  },
  {
   "cell_type": "code",
   "execution_count": 10,
   "metadata": {},
   "outputs": [],
   "source": [
    "# define some parameters\n",
    "steps = 400 # number of steps that the walkers take\n",
    "walkers = 100 # number of random walkers\n",
    "\n",
    "lim = 10 # define plot limits\n",
    "length = lim/20 #* (1 + np.random.rand(walkers)) # pick step length \n",
    "size = .5 # radius of dots\n",
    "margin = 2*size #/ (np.sqrt(96)) # margin for when to reflect from the boundary\n",
    "\n",
    "# randomize the initial position of each walker\n",
    "concentration = lim - 2 * margin # set equal to zero to see a completely different behavior\n",
    "xi = 2*np.random.rand(walkers)*concentration - concentration\n",
    "yi = 2*np.random.rand(walkers)*concentration - concentration\n",
    "\n",
    "# define colors - give each walker its own colors\n",
    "colors = np.random.rand(walkers) # colors of the points\n",
    "#colors = plt.cm.gist_ncar(np.linspace(0,1,walkers))\n",
    "\n",
    "# angle for each walker\n",
    "angle = np.random.rand(walkers)*2*np.pi\n",
    "\n",
    "#margined = []\n",
    "\n",
    "# go through steps\n",
    "for step in range(1,steps):\n",
    "    \n",
    "    ax=subplot(aspect='equal')\n",
    "    #circles(xi[margined], yi[margined], 3*size, c='w', alpha=.1, edgecolor='none')\n",
    "    \n",
    "    # update position\n",
    "    xi = xi+np.cos(angle)*length\n",
    "    yi = yi+np.sin(angle)*length\n",
    "    \n",
    "    # reflect at boundaries\n",
    "    angle[xi+margin > lim] = np.pi - angle[xi+margin > lim]\n",
    "    angle[xi-margin < -lim] = np.pi - angle[xi-margin < -lim]\n",
    "    angle[yi+margin > lim] = - angle[yi+margin > lim]\n",
    "    angle[yi-margin < -lim] = - angle[yi-margin < -lim]\n",
    "    \n",
    "    #margined = [np.array(xi+margin > lim) | np.array(xi-margin < -lim) | np.array(yi+margin > lim) | np.array(yi-margin < -lim)]\n",
    "    #circles(xi[margined], yi[margined], 2*size, c='w', alpha=.2, edgecolor='none')\n",
    "    \n",
    "    # plot the walkers \n",
    "    circles(xi, yi, size, c=colors, alpha=.6, edgecolor='none',cmap=plt.get_cmap('tab20b'))\n",
    "    \n",
    "    # plot the boundary\n",
    "    plt.plot([-lim,lim,lim,-lim,-lim], [-lim,-lim,lim,lim,-lim], 'w-')\n",
    "    \n",
    "    # set x and y limits\n",
    "    xlim(-lim,lim)\n",
    "    ylim(-lim,lim)\n",
    "\n",
    "    plt.axis('off')\n",
    "    plt.savefig('%s_particles_%04d.png' %(walkers,step),dpi=96,facecolor='black',bbox_inches='tight',pad=-1)\n",
    "    plt.close()"
   ]
  },
  {
   "cell_type": "markdown",
   "metadata": {},
   "source": [
    "make a gif file from the png files created"
   ]
  },
  {
   "cell_type": "code",
   "execution_count": 12,
   "metadata": {},
   "outputs": [],
   "source": [
    "# make a gif file \n",
    "with imageio.get_writer('movie4.gif', mode='I', duration=0) as writer:\n",
    "    for step in range(1,steps,1):\n",
    "        filename = '%s_particles_%04d.png' %(walkers,step)\n",
    "        image = imageio.imread(filename)\n",
    "        writer.append_data(image)"
   ]
  }
 ],
 "metadata": {
  "kernelspec": {
   "display_name": "Python 3",
   "language": "python",
   "name": "python3"
  },
  "language_info": {
   "codemirror_mode": {
    "name": "ipython",
    "version": 3
   },
   "file_extension": ".py",
   "mimetype": "text/x-python",
   "name": "python",
   "nbconvert_exporter": "python",
   "pygments_lexer": "ipython3",
   "version": "3.6.5"
  }
 },
 "nbformat": 4,
 "nbformat_minor": 2
}
